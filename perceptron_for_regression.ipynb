{
 "cells": [
  {
   "cell_type": "markdown",
   "metadata": {
    "id": "EAt-K2qgcIou"
   },
   "source": "# Perceptron for regression"
  },
  {
   "cell_type": "code",
   "metadata": {
    "tags": [
     "graded"
    ],
    "ExecuteTime": {
     "end_time": "2024-10-16T04:01:37.420398Z",
     "start_time": "2024-10-16T04:01:37.417740Z"
    }
   },
   "source": [
    "import numpy as np\n",
    "import pandas as pd\n",
    "import matplotlib.pyplot as plt\n",
    "\n",
    "np.random.seed(123) "
   ],
   "outputs": [],
   "execution_count": 8
  },
  {
   "metadata": {},
   "cell_type": "markdown",
   "source": "## Example chart for linear regression"
  },
  {
   "metadata": {
    "ExecuteTime": {
     "end_time": "2024-10-16T04:24:30.412677Z",
     "start_time": "2024-10-16T04:24:30.343443Z"
    }
   },
   "cell_type": "code",
   "source": [
    "#In simple words the goal of linear regression is to find linear function that best fits data points.\n",
    "\n",
    "x = np.array(range(0, 10))\n",
    "y = x*2-4\n",
    "plt.plot(x, y)\n",
    "plt.plot(0, -2, 'o')\n",
    "plt.plot(2.5, -1, 'o')\n",
    "plt.plot(5, 7, 'o')\n",
    "plt.plot(5, 5, 'o')\n",
    "plt.plot(0, -5, 'o')\n",
    "\n",
    "plt.show()"
   ],
   "outputs": [
    {
     "data": {
      "text/plain": [
       "<Figure size 640x480 with 1 Axes>"
      ],
      "image/png": "[encoded data removed]"
     },
     "metadata": {},
     "output_type": "display_data"
    }
   ],
   "execution_count": 29
  },
  {
   "metadata": {},
   "cell_type": "markdown",
   "source": [
    "## Linear Regression\n",
    "Linear regression helps to find parameters a and b for standard linear function y= ax + b. This can be described can be described as:\n",
    "\n",
    "$$\\hat{y} = wx + b,\\tag{1}$$ \n",
    "\n",
    "It can be written also in matrix form:\n",
    "\n",
    "\\begin{align}\n",
    "Z &=  w X + b,\\\\\n",
    "\\hat{Y} &= Z,\n",
    "\\tag{3}\\end{align}"
   ]
  },
  {
   "cell_type": "markdown",
   "metadata": {},
   "source": [
    "\n",
    "Steps for building a neural network:\n",
    "1. Define the artificial neural network structure: number of hidden layers and units inside these layers  \n",
    "2. Initialize the model's parameters\n",
    "3. Loop:\n",
    "3.1 Forward propagation - pass input through all connected units and calculate the perceptron output\n",
    "3.2 Backward propagation - calculate how much current result differs from expectations and update params in network to give a bit better results on each run \n",
    "3.3 Update network parameters.\n",
    "4. Make predictions."
   ]
  },
  {
   "metadata": {},
   "cell_type": "markdown",
   "source": "## Predict apartment price in city of Poznan based on area "
  },
  {
   "cell_type": "code",
   "metadata": {
    "tags": [
     "graded"
    ],
    "ExecuteTime": {
     "end_time": "2024-10-16T05:14:51.731478Z",
     "start_time": "2024-10-16T05:14:51.694754Z"
    }
   },
   "source": [
    "# First need to load the data\n",
    "data = pd.read_csv(\"houses.csv\", encoding='ISO-8859-1')\n",
    "data.head(10)"
   ],
   "outputs": [
    {
     "data": {
      "text/plain": [
       "   Unnamed: 0                                            address      city  \\\n",
       "0           0           Podgórze Zab³ocie Stanis³awa Klimeckiego    Kraków   \n",
       "1           1                          Praga-Po³udnie Grochowska  Warszawa   \n",
       "2           2                            Krowodrza Czarnowiejska    Kraków   \n",
       "3           3                                           Grunwald    Poznañ   \n",
       "4           4  Ochota Gotowy budynek. Stan deweloperski. Osta...  Warszawa   \n",
       "5           5                     Nowa Huta Czy¿yny ul. Woniców    Kraków   \n",
       "6           6                       Podgórze P³aszów Koszykarska    Kraków   \n",
       "7           7                                       Mokotów Pory  Warszawa   \n",
       "8           8                                     Ursynów Wy¿yny  Warszawa   \n",
       "9           9                                             Bemowo  Warszawa   \n",
       "\n",
       "   floor       id   latitude  longitude      price  rooms      sq    year  \n",
       "0    2.0  23918.0  50.049224  19.970379   749000.0    3.0   74.05  2021.0  \n",
       "1    3.0  17828.0  52.249775  21.106886   240548.0    1.0   24.38  2021.0  \n",
       "2    2.0  22784.0  50.066964  19.920025   427000.0    2.0   37.00  1970.0  \n",
       "3    2.0   4315.0  52.404212  16.882542  1290000.0    5.0  166.00  1935.0  \n",
       "4    1.0  11770.0  52.212225  20.972630   996000.0    5.0  105.00  2020.0  \n",
       "5    2.0  26071.0  50.046943  19.997153   414600.0    1.0   34.55  2022.0  \n",
       "6    0.0  22569.0  50.049893  19.990603   750000.0    4.0   81.40  2021.0  \n",
       "7   10.0  13308.0  52.184058  21.044302  2890000.0    6.0  280.00  2003.0  \n",
       "8    3.0  11387.0  52.140282  21.056345   615000.0    4.0   63.40  1982.0  \n",
       "9    1.0  10904.0  52.238974  20.913288   429000.0    1.0   40.00  1999.0  "
      ],
      "text/html": [
       "<div>\n",
       "<style scoped>\n",
       "    .dataframe tbody tr th:only-of-type {\n",
       "        vertical-align: middle;\n",
       "    }\n",
       "\n",
       "    .dataframe tbody tr th {\n",
       "        vertical-align: top;\n",
       "    }\n",
       "\n",
       "    .dataframe thead th {\n",
       "        text-align: right;\n",
       "    }\n",
       "</style>\n",
       "<table border=\"1\" class=\"dataframe\">\n",
       "  <thead>\n",
       "    <tr style=\"text-align: right;\">\n",
       "      <th></th>\n",
       "      <th>Unnamed: 0</th>\n",
       "      <th>address</th>\n",
       "      <th>city</th>\n",
       "      <th>floor</th>\n",
       "      <th>id</th>\n",
       "      <th>latitude</th>\n",
       "      <th>longitude</th>\n",
       "      <th>price</th>\n",
       "      <th>rooms</th>\n",
       "      <th>sq</th>\n",
       "      <th>year</th>\n",
       "    </tr>\n",
       "  </thead>\n",
       "  <tbody>\n",
       "    <tr>\n",
       "      <th>0</th>\n",
       "      <td>0</td>\n",
       "      <td>Podgórze Zab³ocie Stanis³awa Klimeckiego</td>\n",
       "      <td>Kraków</td>\n",
       "      <td>2.0</td>\n",
       "      <td>23918.0</td>\n",
       "      <td>50.049224</td>\n",
       "      <td>19.970379</td>\n",
       "      <td>749000.0</td>\n",
       "      <td>3.0</td>\n",
       "      <td>74.05</td>\n",
       "      <td>2021.0</td>\n",
       "    </tr>\n",
       "    <tr>\n",
       "      <th>1</th>\n",
       "      <td>1</td>\n",
       "      <td>Praga-Po³udnie Grochowska</td>\n",
       "      <td>Warszawa</td>\n",
       "      <td>3.0</td>\n",
       "      <td>17828.0</td>\n",
       "      <td>52.249775</td>\n",
       "      <td>21.106886</td>\n",
       "      <td>240548.0</td>\n",
       "      <td>1.0</td>\n",
       "      <td>24.38</td>\n",
       "      <td>2021.0</td>\n",
       "    </tr>\n",
       "    <tr>\n",
       "      <th>2</th>\n",
       "      <td>2</td>\n",
       "      <td>Krowodrza Czarnowiejska</td>\n",
       "      <td>Kraków</td>\n",
       "      <td>2.0</td>\n",
       "      <td>22784.0</td>\n",
       "      <td>50.066964</td>\n",
       "      <td>19.920025</td>\n",
       "      <td>427000.0</td>\n",
       "      <td>2.0</td>\n",
       "      <td>37.00</td>\n",
       "      <td>1970.0</td>\n",
       "    </tr>\n",
       "    <tr>\n",
       "      <th>3</th>\n",
       "      <td>3</td>\n",
       "      <td>Grunwald</td>\n",
       "      <td>Poznañ</td>\n",
       "      <td>2.0</td>\n",
       "      <td>4315.0</td>\n",
       "      <td>52.404212</td>\n",
       "      <td>16.882542</td>\n",
       "      <td>1290000.0</td>\n",
       "      <td>5.0</td>\n",
       "      <td>166.00</td>\n",
       "      <td>1935.0</td>\n",
       "    </tr>\n",
       "    <tr>\n",
       "      <th>4</th>\n",
       "      <td>4</td>\n",
       "      <td>Ochota Gotowy budynek. Stan deweloperski. Osta...</td>\n",
       "      <td>Warszawa</td>\n",
       "      <td>1.0</td>\n",
       "      <td>11770.0</td>\n",
       "      <td>52.212225</td>\n",
       "      <td>20.972630</td>\n",
       "      <td>996000.0</td>\n",
       "      <td>5.0</td>\n",
       "      <td>105.00</td>\n",
       "      <td>2020.0</td>\n",
       "    </tr>\n",
       "    <tr>\n",
       "      <th>5</th>\n",
       "      <td>5</td>\n",
       "      <td>Nowa Huta Czy¿yny ul. Woniców</td>\n",
       "      <td>Kraków</td>\n",
       "      <td>2.0</td>\n",
       "      <td>26071.0</td>\n",
       "      <td>50.046943</td>\n",
       "      <td>19.997153</td>\n",
       "      <td>414600.0</td>\n",
       "      <td>1.0</td>\n",
       "      <td>34.55</td>\n",
       "      <td>2022.0</td>\n",
       "    </tr>\n",
       "    <tr>\n",
       "      <th>6</th>\n",
       "      <td>6</td>\n",
       "      <td>Podgórze P³aszów Koszykarska</td>\n",
       "      <td>Kraków</td>\n",
       "      <td>0.0</td>\n",
       "      <td>22569.0</td>\n",
       "      <td>50.049893</td>\n",
       "      <td>19.990603</td>\n",
       "      <td>750000.0</td>\n",
       "      <td>4.0</td>\n",
       "      <td>81.40</td>\n",
       "      <td>2021.0</td>\n",
       "    </tr>\n",
       "    <tr>\n",
       "      <th>7</th>\n",
       "      <td>7</td>\n",
       "      <td>Mokotów Pory</td>\n",
       "      <td>Warszawa</td>\n",
       "      <td>10.0</td>\n",
       "      <td>13308.0</td>\n",
       "      <td>52.184058</td>\n",
       "      <td>21.044302</td>\n",
       "      <td>2890000.0</td>\n",
       "      <td>6.0</td>\n",
       "      <td>280.00</td>\n",
       "      <td>2003.0</td>\n",
       "    </tr>\n",
       "    <tr>\n",
       "      <th>8</th>\n",
       "      <td>8</td>\n",
       "      <td>Ursynów Wy¿yny</td>\n",
       "      <td>Warszawa</td>\n",
       "      <td>3.0</td>\n",
       "      <td>11387.0</td>\n",
       "      <td>52.140282</td>\n",
       "      <td>21.056345</td>\n",
       "      <td>615000.0</td>\n",
       "      <td>4.0</td>\n",
       "      <td>63.40</td>\n",
       "      <td>1982.0</td>\n",
       "    </tr>\n",
       "    <tr>\n",
       "      <th>9</th>\n",
       "      <td>9</td>\n",
       "      <td>Bemowo</td>\n",
       "      <td>Warszawa</td>\n",
       "      <td>1.0</td>\n",
       "      <td>10904.0</td>\n",
       "      <td>52.238974</td>\n",
       "      <td>20.913288</td>\n",
       "      <td>429000.0</td>\n",
       "      <td>1.0</td>\n",
       "      <td>40.00</td>\n",
       "      <td>1999.0</td>\n",
       "    </tr>\n",
       "  </tbody>\n",
       "</table>\n",
       "</div>"
      ]
     },
     "execution_count": 56,
     "metadata": {},
     "output_type": "execute_result"
    }
   ],
   "execution_count": 56
  },
  {
   "cell_type": "code",
   "metadata": {
    "ExecuteTime": {
     "end_time": "2024-10-16T05:16:50.156394Z",
     "start_time": "2024-10-16T05:16:50.034130Z"
    }
   },
   "source": [
    "#inline plot in notebook\n",
    "%matplotlib inline \n",
    "#display plot with price depending on square footage before normalization\n",
    "data.plot(x='sq', y='price', kind='scatter', c='black')\n",
    "\n",
    "# normalize the data\n",
    "# remove outliers\n",
    "data = data.where(data['city'] == 'Poznañ')\n",
    "data['sq'] = data['sq'].where(data['sq'] < 150)\n",
    "data['price'] = data['price'].where(data['price'] < 1200000)\n",
    "# remove empty values\n",
    "data.dropna(subset = ['sq', 'price'], inplace=True)"
   ],
   "outputs": [
    {
     "data": {
      "text/plain": [
       "<Figure size 640x480 with 1 Axes>"
      ],
      "image/png": "[encoded data removed]"
     },
     "metadata": {},
     "output_type": "display_data"
    }
   ],
   "execution_count": 59
  },
  {
   "metadata": {
    "ExecuteTime": {
     "end_time": "2024-10-16T05:16:55.465484Z",
     "start_time": "2024-10-16T05:16:55.362829Z"
    }
   },
   "cell_type": "code",
   "source": [
    "#display plot with price depending on square footage after normalization\n",
    "data.plot(x='sq', y='price', kind='scatter', c='black')"
   ],
   "outputs": [
    {
     "data": {
      "text/plain": [
       "<Axes: xlabel='sq', ylabel='price'>"
      ]
     },
     "execution_count": 60,
     "metadata": {},
     "output_type": "execute_result"
    },
    {
     "data": {
      "text/plain": [
       "<Figure size 640x480 with 1 Axes>"
      ],
      "image/png": "[encoded data removed]"
     },
     "metadata": {},
     "output_type": "display_data"
    }
   ],
   "execution_count": 60
  },
  {
   "cell_type": "code",
   "metadata": {
    "ExecuteTime": {
     "end_time": "2024-10-16T05:16:57.985423Z",
     "start_time": "2024-10-16T05:16:57.982001Z"
    }
   },
   "source": [
    "#save the fields into variables X and Y and reshape them to row vectors:\n",
    "X = data['sq']\n",
    "Y = data['price']\n",
    "\n",
    "X = np.array(X).reshape((1, len(X)))\n",
    "Y = np.array(Y).reshape((1, len(Y)))\n",
    "\n",
    "print ('shape of X: ' + str(X.shape))\n",
    "print ('shape of Y: ' + str(Y.shape))"
   ],
   "outputs": [
    {
     "name": "stdout",
     "output_type": "stream",
     "text": [
      "shape of X: (1, 4091)\n",
      "shape of Y: (1, 4091)\n"
     ]
    }
   ],
   "execution_count": 61
  },
  {
   "cell_type": "markdown",
   "metadata": {},
   "source": "## Create artificial neural network"
  },
  {
   "cell_type": "markdown",
   "metadata": {},
   "source": "### Define number of input and output units"
  },
  {
   "cell_type": "code",
   "metadata": {
    "tags": [
     "graded"
    ],
    "ExecuteTime": {
     "end_time": "2024-10-16T05:17:06.270707Z",
     "start_time": "2024-10-16T05:17:06.267593Z"
    }
   },
   "source": [
    "n_x = X.shape[0]\n",
    "n_y = Y.shape[0]\n",
    "print(\"The size of the input layer is: n_x = \" + str(n_x))\n",
    "print(\"The size of the output layer is: n_y = \" + str(n_y))"
   ],
   "outputs": [
    {
     "name": "stdout",
     "output_type": "stream",
     "text": [
      "The size of the input layer is: n_x = 1\n",
      "The size of the output layer is: n_y = 1\n"
     ]
    }
   ],
   "execution_count": 62
  },
  {
   "metadata": {},
   "cell_type": "markdown",
   "source": [
    "### Initialize network parameters\n",
    "\n",
    "Init network parameters with very small random number for weights and zero for biases. "
   ]
  },
  {
   "cell_type": "code",
   "metadata": {
    "tags": [
     "graded"
    ],
    "ExecuteTime": {
     "end_time": "2024-10-16T05:17:08.580183Z",
     "start_time": "2024-10-16T05:17:08.575850Z"
    }
   },
   "source": [
    "def init_params(n_x, n_y):\n",
    "    \"\"\"\n",
    "    :param n_x: \n",
    "    :param n_y: \n",
    "    :return: \n",
    "    W - weights\n",
    "    b - biases\n",
    "    \"\"\"\n",
    "    W = np.random.randn(n_y, n_x) * 0.01\n",
    "    b = np.zeros((n_y, 1))\n",
    "    \n",
    "    return (W, b)\n",
    "\n",
    "(W, b) = init_params(n_x, n_y)\n",
    "print(\"W = \" + str(W))\n",
    "print(\"b = \" + str(b))"
   ],
   "outputs": [
    {
     "name": "stdout",
     "output_type": "stream",
     "text": [
      "W = [[-0.005786]]\n",
      "b = [[0.]]\n"
     ]
    }
   ],
   "execution_count": 63
  },
  {
   "cell_type": "markdown",
   "metadata": {},
   "source": "### Forward propagation"
  },
  {
   "cell_type": "code",
   "metadata": {
    "tags": [
     "graded"
    ],
    "ExecuteTime": {
     "end_time": "2024-10-16T05:17:11.714319Z",
     "start_time": "2024-10-16T05:17:11.711387Z"
    }
   },
   "source": [
    "def forward_propagation(X, W, b):\n",
    "    \"\"\"\n",
    "    W - weights\n",
    "    b - biases\n",
    "    :return:\n",
    "    Y_hat \n",
    "    \"\"\"\n",
    "    # Forward Propagation to calculate Z.\n",
    "    Z = np.matmul(W, X) + b\n",
    "    Y_hat = Z\n",
    "\n",
    "    return Y_hat\n",
    "\n",
    "Y_hat = forward_propagation(X, W, b)\n",
    "\n",
    "print(\"Some elements of output vector Y_hat:\", Y_hat[0, 0:5])"
   ],
   "outputs": [
    {
     "name": "stdout",
     "output_type": "stream",
     "text": [
      "Some elements of output vector Y_hat: [-0.34883809 -0.44777873 -0.38488489 -0.45003528 -0.33703465]\n"
     ]
    }
   ],
   "execution_count": 64
  },
  {
   "cell_type": "markdown",
   "metadata": {},
   "source": [
    "### Compute cost\n",
    "\n",
    "Cost can be computed from formula below:\n",
    "$$\\mathcal{L}\\left(w, b\\right)  = \\frac{1}{2m}\\sum_{i=1}^{m} \\left(\\hat{y}^{(i)} - y^{(i)}\\right)^2$$"
   ]
  },
  {
   "cell_type": "code",
   "metadata": {
    "tags": [
     "graded"
    ],
    "ExecuteTime": {
     "end_time": "2024-10-16T05:34:21.270512Z",
     "start_time": "2024-10-16T05:34:21.266106Z"
    }
   },
   "source": [
    "def cost(Y_hat, Y):\n",
    "    \"\"\"\n",
    "    Returns:\n",
    "    cost -- sum of squares scaled by 1/(2*number of examples)\n",
    "    \"\"\"\n",
    "    # Number of examples.\n",
    "    m = Y_hat.shape[1]\n",
    "\n",
    "    # Compute the cost function.\n",
    "    cost = np.sum((Y_hat - Y)**2/(2*m))\n",
    "    \n",
    "    return cost\n",
    "\n",
    "print(\"Cost = \" + str(cost(Y_hat, Y)))"
   ],
   "outputs": [
    {
     "name": "stdout",
     "output_type": "stream",
     "text": [
      "Cost = 117216313612.55383\n"
     ]
    }
   ],
   "execution_count": 71
  },
  {
   "cell_type": "markdown",
   "metadata": {
    "tags": [
     "graded"
    ]
   },
   "source": [
    "## Calculate partial derivatives \n",
    "\n",
    " Partial derivatives show the direction in which weights should be updated. \n",
    "\n",
    "\\begin{align}\n",
    "\\frac{\\partial \\mathcal{L} }{ \\partial w } &= \n",
    "\\frac{1}{m}\\sum_{i=1}^{m} \\left(\\hat{y}^{(i)} - y^{(i)}\\right)x^{(i)},\\\\\n",
    "\\frac{\\partial \\mathcal{L} }{ \\partial b } &= \n",
    "\\frac{1}{m}\\sum_{i=1}^{m} \\left(\\hat{y}^{(i)} - y^{(i)}\\right).\n",
    "\\end{align}"
   ]
  },
  {
   "cell_type": "code",
   "metadata": {
    "ExecuteTime": {
     "end_time": "2024-10-16T05:25:47.629413Z",
     "start_time": "2024-10-16T05:25:47.620770Z"
    }
   },
   "source": [
    "def backward_propagation(Y_hat, X, Y):\n",
    "    \"\"\"\n",
    "    Implements the backward propagation, calculating gradients\n",
    "    \"\"\"\n",
    "    m = X.shape[1]\n",
    "    \n",
    "    # Backward propagation: calculate partial derivatives denoted as dW, db for simplicity. \n",
    "    dZ = Y_hat - Y\n",
    "    dW = 1/m * np.dot(dZ, X.T)\n",
    "    db = 1/m * np.sum(dZ, axis = 1, keepdims = True)\n",
    "    \n",
    "    return (dW, db)\n",
    "\n",
    "(dW, db) = backward_propagation(Y_hat, X, Y)\n",
    "\n",
    "print(\"dW = \" + str(dW))\n",
    "print(\"db = \" + str(db))"
   ],
   "outputs": [
    {
     "name": "stdout",
     "output_type": "stream",
     "text": [
      "dW = [[-29332289.59843532]]\n",
      "db = [[-456093.79103022]]\n"
     ]
    }
   ],
   "execution_count": 66
  },
  {
   "cell_type": "markdown",
   "metadata": {},
   "source": [
    "## Update parameters\n",
    "\n",
    "\\begin{align}\n",
    "w &= w - \\alpha \\frac{\\partial \\mathcal{L} }{ \\partial w },\\\\\n",
    "b &= b - \\alpha \\frac{\\partial \\mathcal{L} }{ \\partial b }.\n",
    "\\end{align}\n"
   ]
  },
  {
   "cell_type": "code",
   "metadata": {
    "ExecuteTime": {
     "end_time": "2024-10-16T05:41:27.304916Z",
     "start_time": "2024-10-16T05:41:27.301491Z"
    }
   },
   "source": [
    "def update_params(W, b, dW, db, alpha=1.2):\n",
    "    # Update rule for each parameter.\n",
    "    W = W - alpha * dW\n",
    "    b = b - alpha * db\n",
    "    \n",
    "    return (W, b)\n",
    "\n",
    "(W, b) = update_params(W, b, dW, db) \n",
    "\n",
    "print(\"new W = \" + str(W))\n",
    "print(\"new b = \" + str(b))"
   ],
   "outputs": [
    {
     "name": "stdout",
     "output_type": "stream",
     "text": [
      "new W = [[52798121.27139758]]\n",
      "new b = [[820968.8238544]]\n"
     ]
    }
   ],
   "execution_count": 77
  },
  {
   "cell_type": "markdown",
   "metadata": {},
   "source": [
    "\n",
    "### Put everything together"
   ]
  },
  {
   "cell_type": "code",
   "metadata": {
    "tags": [
     "graded"
    ],
    "ExecuteTime": {
     "end_time": "2024-10-16T05:41:29.199944Z",
     "start_time": "2024-10-16T05:41:29.195009Z"
    }
   },
   "source": [
    "def nn_model(X, Y, iterations=100, alpha=0.2):\n",
    "    n_x = X.shape[0]\n",
    "    n_y = y.shape[0]\n",
    "\n",
    "    W, b = init_params(n_x, n_y)\n",
    "    \n",
    "    for i in range(0, iterations):\n",
    "         \n",
    "        # Forward propagation. Inputs: \"X, parameters\". Outputs: \"Y_hat\".\n",
    "        Y_hat = forward_propagation(X, W, b)\n",
    "        \n",
    "        # Cost function. Inputs: \"Y_hat, Y\". Outputs: \"cost\".\n",
    "        cost_value = cost(Y_hat, Y)\n",
    "        \n",
    "        # Backpropagation. Inputs: \"Y_hat, X, Y\". Outputs: \"grads\".\n",
    "        dW, db = backward_propagation(Y_hat, X, Y)\n",
    "    \n",
    "        # Gradient descent parameter update. Inputs: \"parameters, grads, learning_rate\". Outputs: \"parameters\".\n",
    "        W, b = update_params(W, b, dW, db, alpha)\n",
    "        \n",
    "        print (\"Cost after %i: %f\" %(i, cost_value))\n",
    "\n",
    "    return W, b"
   ],
   "outputs": [],
   "execution_count": 78
  },
  {
   "cell_type": "code",
   "metadata": {
    "tags": [
     "graded"
    ],
    "ExecuteTime": {
     "end_time": "2024-10-16T05:41:31.012552Z",
     "start_time": "2024-10-16T05:41:30.989359Z"
    }
   },
   "source": [
    "newW, newB = nn_model(X, Y)\n",
    "print(\"W = \" + str(W))\n",
    "print(\"b = \" + str(b))"
   ],
   "outputs": [
    {
     "name": "stdout",
     "output_type": "stream",
     "text": [
      "Cost after 0: 1172163421620.293945\n",
      "Cost after 1: 651167161760380544.000000\n",
      "Cost after 2: 373791193601011504644096.000000\n",
      "Cost after 3: 214568351577076685027542040576.000000\n",
      "Cost after 4: 123169240706220838952348580501782528.000000\n",
      "Cost after 5: 70703166355348512816032009196887919820800.000000\n",
      "Cost after 6: 40585926356365142903960085711604379498240278528.000000\n",
      "Cost after 7: 23297647094410254038398667420105910819965342886920192.000000\n",
      "Cost after 8: 13373610235474108485954702802581393469077732395718744735744.000000\n",
      "Cost after 9: 7676889001091006251798063105561596619924836025690295375398699008.000000\n",
      "Cost after 10: 4406784981571044156453878611819521842005208933001132267289663093342208.000000\n",
      "Cost after 11: 2529638486506741833806405726306119450919262693379991086073099885629956685824.000000\n",
      "Cost after 12: 1452095098621039848403050882057087265881942502562251235290824817705413297559306240.000000\n",
      "Cost after 13: 833550005934266600912427124773366948746462659089285821533688952983893788572006240747520.000000\n",
      "Cost after 14: 478484923647789047886764802695539468571523208823372033511598763820957373964675787117582876672.000000\n",
      "Cost after 15: 274665971481361557530307420392853683449834405177642205255690336320155812500049498338705663676383232.000000\n",
      "Cost after 16: 157667237067081353577749398034230234054400166358956968354290390936524194455469504045367960352579186065408.000000\n",
      "Cost after 17: 90506142826120567216046169722628639018736013435504023995419618138798734173251140129445708491090721492462206976.000000\n",
      "Cost after 18: 51953481532609122128395133841200057418676539638480623281198216572954800597676725813130192975112520878953743777792000.000000\n",
      "Cost after 19: 29822994982172247204314021099430661367063723016029194741619536806578740910116896971015842764873351872166039393943576117248.000000\n",
      "Cost after 20: 17119373013499033505569943830274789164326382307103513562502131350864785081287747598440847932150916582797935594250883706310885376.000000\n",
      "Cost after 21: 9827079156554006283628387011790009723554550436756285150097644798402268717015350751900925474236520287873435201602437777200144378232832.000000\n",
      "Cost after 22: 5641064346984508962635752948822815476799112434401842009493070494473980577867452596934278713456908859694964244457407190806595136170462543872.000000\n",
      "Cost after 23: 3238155148633038801726304026955399804529928077091876952026206066940491504823831183696416092911549969482353235328483188369598088839075609482100736.000000\n",
      "Cost after 24: 1858806799859298749789332945947808987154969299381875463578526299109291443863750274211041479314793639680471242762485430557493843169674788463963524825088.000000\n",
      "Cost after 25: 1067015803940628567415477536398445251844697043354063594218101129253163246217035948381865671538182910014812626524793759508277403923731644492618202604464242688.000000\n",
      "Cost after 26: 612501915715632139143343531825063137267728397566860254447988278134375861211495751043152311224416130210552416809648697222442142105778784567334814454141057400569856.000000\n",
      "Cost after 27: 351596101360270613784037923202232159051646324466363077279133609688947608559698906212585709540377255227808514161313900896047876633513252972296113733309374653592976228352.000000\n",
      "Cost after 28: 201827643832439519894363807380821483723480890045517525519673845023730296566326770976469823986251357866074217378961484037469248579736677760586034945086371039845487294048894976.000000\n",
      "Cost after 29: 115855658402806915137405119882437844606363583007035986793524202350559066224165828630755571152511661010870625299702440902977680029499782419767415498398250803461284917448386413592576.000000\n",
      "Cost after 30: 66504931282314638544347138919767137476915750866253141818622006492568283631858570081509898571838292122307743417219351351814951511826311387737403205424039890858451330573523255542071427072.000000\n",
      "Cost after 31: 38176002327722613666764691560612300455090456973074842230222423626293940486013150677427750176425313460175870233692564507545923497820713035427022502121031251367086639146798139854491937195163648.000000\n",
      "Cost after 32: 21914272003974592515730914484553067939575966993203046888601228187613624011896379703796873678253042842383775409496835931417647838965335149726081379936466034902108035500674771575643123129539033563136.000000\n",
      "Cost after 33: 12579507758345045952882648966069615260610159778841579444771943854254155572963952867337114581917947706148546088455465260278980076794209699184168386825531177090510800034190125991265767494428012174064484352.000000\n",
      "Cost after 34: 7221048247167975395164231787035135443568727616889374342030793846500928650467160321044259136662093723297737964785629571487473532128792307479850742471212859712873038905124350215346172652919521138238348775653376.000000\n",
      "Cost after 35: 4145117502975153895304840125949904755561991511340171605776692326970602029282567392654983288990487130112116757268019211515444590292527271129298047319254359438585311786010999229093264991827931238247835308143893544960.000000\n",
      "Cost after 36: 2379432808832090145492423979957465258081467865620202844326516070255296316691209205279807948824544861251228562018553301614773753570238464043933907731362673780031762917099586485808298521083038148197022658462643243225972736.000000\n",
      "Cost after 37: 1365872134549357785548271863117841398438995479647484400359651757482644234127054538627406099594757231304475642823759039442988776080032510428075274070883632484257758357060812873683203429633003722112950002839653027140350213357568.000000\n",
      "Cost after 38: 784055208877329732260615438851159912649555633187584715500969390305067555908955699406610650323870584659722591566930546011305565486617849181975075700208162156510446352295713764921891045989390710245687518563044442839970984931746643968.000000\n",
      "Cost after 39: 450073293844958021430951814915977710080684720950499672629467184629771628244899292821810989237405765058665633385452058028126321498086892166669729231347165117813197808558059647028054239418219405418298293499374586578645016048790019126591488.000000\n",
      "Cost after 40: 258356768170062707561769123547345891357136907837514105164337842007415168877843119520993113190565888884789690459607160245635824613225663763642854035685120313213237225479562537918317502307472279625796356395318254225760026120019697612403249250304.000000\n",
      "Cost after 41: 148305221776329223656432549570494571586145087823815243803617038801109495796759076981968095930565519813160078819588622575208677120693591006107443873648916606327243641159020893067937615803349810899237391319003961454633589826236451054558528126767333376.000000\n",
      "Cost after 42: 85132040325138413535471101429487350988061143846861887689295725537869587465189119489552146019960132734486263975916665138268977574669831345691800237040077124061616411443186361007041328133636328107373072238782971211937710906889598919597321887915269840437248.000000\n",
      "Cost after 43: 48868571201433848452330985066288813445754229537594119343660657933100484605277719704639989549549329708986936712595828927042166133422044710290101950346907994758296985904158908284327807875297217397720429558171072564438714972658534527439743698364108970085385764864.000000\n",
      "Cost after 44: 28052155711865682511689394762293979700376974046803829480126089413423711385216680349658954331146126620812611602542124096226159023208617082665717201396618940379310372748793899586197677679448587288870674456273416344643345725816916525291249353725662711006343500442632192.000000\n",
      "Cost after 45: 16102853444171679744920955689799855194569086082959120876486204981056756858549959956157460062153008322166044098685612732303934991344888638376263978700580298575173083616796387390207131485818724448485912361485653401909703431107970807429402244105945198845532959488466034360320.000000\n",
      "Cost after 46: 9243563728501280838976728604930033780963356867521625929099317553675507712472341519903862797925569993665968329800223458921901222615733275446657174059525501644266429701497292503459736616960915275288996709051285480215094736077422409979313545345442855593054932159448859298687352832.000000\n",
      "Cost after 47: 5306107436119674361078458205941738309666581105950375323389603514625592430405354662819703457243183397592477869729482208519792616312980261487940767800699153897407608337467922743967493136439316645439214798499498290642168990099370193725165969544300107189114000954621426053374838210297856.000000\n",
      "Cost after 48: 3045878943511042664636905433739393130110462376761474924617467608925836964518103629560153639662615056003151083624116220866910269560717177639537161000868791030404217273724813769402854151811363062976861560308095540569096925089671645923881899332594932012699023425492736061807051563583261376512.000000\n",
      "Cost after 49: 1748433979186147459048752626278298862602252482040211197798342099827341751535304466243649040204665983945164110167808354299425432062540634236711358065359411633040735799008991945447255066691352929184011466886885342909145868620319470732046928141293662756078239262165686265166682473585503963046739968.000000\n",
      "Cost after 50: 1003658200561583508619155384081180024053130456243164289019340903763932279876524010327863032070010063553819342420065863574711190681765345146326197003643792438312734347189420738134682419689334224799287310303842791302293914023410991433008100687218600994293972151937900926357352708716544314345195187470336.000000\n",
      "Cost after 51: 576132582382894152286664109496353054985942929178211844883078771686304032553954461051099354139918731558093520762346890258630823280356280639166805221866719076115705966090872478124416957638534449857283841561029329195842193207041306916218585378569025054231652224444672454520720825836253988567807304503069245440.000000\n",
      "Cost after 52: inf\n",
      "Cost after 53: inf\n",
      "Cost after 54: inf\n",
      "Cost after 55: inf\n",
      "Cost after 56: inf\n",
      "Cost after 57: inf\n",
      "Cost after 58: inf\n",
      "Cost after 59: inf\n",
      "Cost after 60: inf\n",
      "Cost after 61: inf\n",
      "Cost after 62: inf\n",
      "Cost after 63: inf\n",
      "Cost after 64: inf\n",
      "Cost after 65: inf\n",
      "Cost after 66: inf\n",
      "Cost after 67: inf\n",
      "Cost after 68: inf\n",
      "Cost after 69: inf\n",
      "Cost after 70: inf\n",
      "Cost after 71: inf\n",
      "Cost after 72: inf\n",
      "Cost after 73: inf\n",
      "Cost after 74: inf\n",
      "Cost after 75: inf\n",
      "Cost after 76: inf\n",
      "Cost after 77: inf\n",
      "Cost after 78: inf\n",
      "Cost after 79: inf\n",
      "Cost after 80: inf\n",
      "Cost after 81: inf\n",
      "Cost after 82: inf\n",
      "Cost after 83: inf\n",
      "Cost after 84: inf\n",
      "Cost after 85: inf\n",
      "Cost after 86: inf\n",
      "Cost after 87: inf\n",
      "Cost after 88: inf\n",
      "Cost after 89: inf\n",
      "Cost after 90: inf\n",
      "Cost after 91: inf\n",
      "Cost after 92: inf\n",
      "Cost after 93: inf\n",
      "Cost after 94: inf\n",
      "Cost after 95: inf\n",
      "Cost after 96: inf\n",
      "Cost after 97: inf\n",
      "Cost after 98: inf\n",
      "Cost after 99: inf\n",
      "W = [[52798121.27139758]]\n",
      "b = [[820968.8238544]]\n"
     ]
    },
    {
     "name": "stderr",
     "output_type": "stream",
     "text": [
      "/tmp/ipykernel_12544/3233446913.py:10: RuntimeWarning: overflow encountered in square\n",
      "  cost = np.sum((Y_hat - Y)**2/(2*m))\n"
     ]
    }
   ],
   "execution_count": 79
  },
  {
   "cell_type": "markdown",
   "metadata": {},
   "source": [
    "You can see that after a few iterations the cost function does not change anymore (the model converges).\n",
    "\n",
    "*Note*: This is a very simple model. In reality the models do not converge that quickly.\n",
    "\n",
    "The final model parameters can be used for making predictions, but don't forget about normalization and denormalization."
   ]
  },
  {
   "cell_type": "code",
   "execution_count": 19,
   "metadata": {
    "tags": [
     "graded"
    ]
   },
   "outputs": [
    {
     "name": "stdout",
     "output_type": "stream",
     "text": [
      "TV marketing expenses:\n",
      "[ 50 120 280]\n",
      "Predictions of sales:\n",
      "[ 9.40942557 12.7369904  20.34285287]\n"
     ]
    }
   ],
   "source": [
    "def predict(X, Y, W, b, X_pred):\n",
    "    \n",
    "    # Retrieve each parameter from the dictionary \"parameters\".\n",
    "    W = parameters[\"W\"]\n",
    "    b = parameters[\"b\"]\n",
    "    \n",
    "    # Use the same mean and standard deviation of the original training array X.\n",
    "    if isinstance(X, pd.Series):\n",
    "        X_mean = np.mean(X)\n",
    "        X_std = np.std(X)\n",
    "        X_pred_norm = ((X_pred - X_mean)/X_std).reshape((1, len(X_pred)))\n",
    "    else:\n",
    "        X_mean = np.array(np.mean(X)).reshape((len(X.axes[1]),1))\n",
    "        X_std = np.array(np.std(X)).reshape((len(X.axes[1]),1))\n",
    "        X_pred_norm = ((X_pred - X_mean)/X_std)\n",
    "    # Make predictions.\n",
    "    Y_pred_norm = np.matmul(W, X_pred_norm) + b\n",
    "    # Use the same mean and standard deviation of the original training array Y.\n",
    "    Y_pred = Y_pred_norm * np.std(Y) + np.mean(Y)\n",
    "    \n",
    "    return Y_pred[0]\n",
    "\n",
    "X_pred = np.array([50, 120, 280])\n",
    "Y_pred = predict(adv[\"TV\"], adv[\"Sales\"], parameters_simple, X_pred)\n",
    "print(f\":\\n{X_pred}\")\n",
    "print(f\":\\n{Y_pred}\")"
   ]
  },
  {
   "cell_type": "markdown",
   "metadata": {},
   "source": [
    "Let's plot the linear regression line and some predictions. The regression line is red and the predicted points are blue."
   ]
  },
  {
   "cell_type": "code",
   "execution_count": 20,
   "metadata": {},
   "outputs": [
    {
     "data": {
      "image/png": "[encoded data removed]",
      "text/plain": [
       "<Figure size 640x480 with 1 Axes>"
      ]
     },
     "metadata": {},
     "output_type": "display_data"
    }
   ],
   "source": [
    "fig, ax = plt.subplots()\n",
    "plt.scatter(adv[\"TV\"], adv[\"Sales\"], color=\"black\")\n",
    "\n",
    "plt.xlabel(\"$x$\")\n",
    "plt.ylabel(\"$y$\")\n",
    "    \n",
    "X_line = np.arange(np.min(adv[\"TV\"]),np.max(adv[\"TV\"])*1.1, 0.1)\n",
    "Y_line = predict(adv[\"TV\"], adv[\"Sales\"], parameters_simple, X_line)\n",
    "ax.plot(X_line, Y_line, \"r\")\n",
    "ax.plot(X_pred, Y_pred, \"bo\")\n",
    "plt.plot()\n",
    "plt.show()"
   ]
  }
 ],
 "metadata": {
  "accelerator": "GPU",
  "colab": {
   "collapsed_sections": [],
   "name": "C1_W1_Assignment_Solution.ipynb",
   "provenance": []
  },
  "coursera": {
   "schema_names": [
    "AI4MC1-1"
   ]
  },
  "grader_version": "1",
  "kernelspec": {
   "display_name": "Python 3",
   "language": "python",
   "name": "python3"
  },
  "language_info": {
   "codemirror_mode": {
    "name": "ipython",
    "version": 3
   },
   "file_extension": ".py",
   "mimetype": "text/x-python",
   "name": "python",
   "nbconvert_exporter": "python",
   "pygments_lexer": "ipython3",
   "version": "3.8.8"
  },
  "toc": {
   "base_numbering": 1,
   "nav_menu": {},
   "number_sections": true,
   "sideBar": true,
   "skip_h1_title": false,
   "title_cell": "Table of Contents",
   "title_sidebar": "Contents",
   "toc_cell": false,
   "toc_position": {},
   "toc_section_display": true,
   "toc_window_display": false
  }
 },
 "nbformat": 4,
 "nbformat_minor": 1
}
